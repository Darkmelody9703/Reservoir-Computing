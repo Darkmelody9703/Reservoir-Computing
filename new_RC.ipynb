{
 "cells": [
  {
   "cell_type": "code",
   "execution_count": 24,
   "metadata": {},
   "outputs": [],
   "source": [
    "import torch\n",
    "import torch.nn as nn\n",
    "import numpy as np\n",
    "import matplotlib.pyplot as plt\n",
    "import time\n",
    "from utils import A_cluster\n",
    "from tqdm.auto import tqdm\n"
   ]
  },
  {
   "cell_type": "code",
   "execution_count": 25,
   "metadata": {},
   "outputs": [],
   "source": [
    "class config:\n",
    "    input = 28*28\n",
    "    output = 20\n",
    "    hid = 256    # RC Neurons\n",
    "    thr = 0.5\n",
    "    decay = 0.5\n",
    "    rst = 0.05\n",
    "    \n",
    "    N_hid = hid\n",
    "    p_in = 0.2        # ratio of inhibitory neurons\n",
    "    gamma = 1.0       # shape factor of gamma distribution\n",
    "    binary = False    # binary matrix of reservoir A\n",
    "    net_type = 'BAC'  # type of reservoir connection topology\n",
    "                      # 'ER',  # Erdos-Renyi Random Network\n",
    "                      # 'ERC', # Clusters of Erdos-Renyi Networks\n",
    "                      # 'BA',  # Barabasi-Albert Network\n",
    "                      # 'BAC', # Clusters of Barabasi-Albert networks\n",
    "                      # 'WS',  # Watts Strogatz small world networks\n",
    "                      # 'WSC', # Clusters of Watts Strogatz small world networks\n",
    "                      # 'RAN', # random network\n",
    "                      # 'DTW', # Developmental Time Window for multi-cluster small-world network\n",
    "    noise = True      # add noise in A\n",
    "    noise_str = 0.05  # noise strength\n",
    "    p_ER = 0.2        # connection probability when creating edges, for ER and WS graphs\n",
    "    m_BA = 3          # number of edges to attach from a new node to existing nodes\n",
    "    k = 5             # number of clusters in A\n",
    "    R = 0.2           # distance factor when deciding connections in random network\n",
    "    scale = False     # rescale matrix A with spectral radius\n",
    "    \n",
    "    \n",
    "    batch = 128\n",
    "    epoch = 100\n",
    "    lr = 0.01\n",
    "    device = torch.device('cuda:0')\n",
    "    "
   ]
  },
  {
   "cell_type": "code",
   "execution_count": 26,
   "metadata": {},
   "outputs": [
    {
     "name": "stdout",
     "output_type": "stream",
     "text": [
      "The directory [D:\\Ph.D\\Research\\SNN-SRT数据/N-MNIST\\frames_number_20_split_by_number] already exists.\n",
      "The directory [D:\\Ph.D\\Research\\SNN-SRT数据/N-MNIST\\frames_number_20_split_by_number] already exists.\n"
     ]
    }
   ],
   "source": [
    "from spikingjelly.datasets.shd import SpikingHeidelbergDigits\n",
    "from spikingjelly.datasets.n_mnist import NMNIST\n",
    "\n",
    "nmnist_train = NMNIST('D:\\Ph.D\\Research\\SNN-SRT数据/N-MNIST', train=True, data_type='frame', frames_number=20, split_by='number')\n",
    "nmnist_test = NMNIST('D:\\Ph.D\\Research\\SNN-SRT数据/N-MNIST', train=False, data_type='frame', frames_number=20, split_by='number')\n",
    "train_loader = torch.utils.data.DataLoader(dataset=nmnist_train, batch_size=config.batch, shuffle=True, drop_last=False, num_workers=0)\n",
    "test_loader = torch.utils.data.DataLoader(dataset=nmnist_test, batch_size=config.batch, shuffle=False, drop_last=False, num_workers=0)\n",
    "\n",
    "# SHD_train = SpikingHeidelbergDigits('D:\\Ph.D\\Research\\SNN-SRT数据\\SHD', train=True, data_type='frame', frames_number=20, split_by='number')\n",
    "# SHD_test = SpikingHeidelbergDigits('D:\\Ph.D\\Research\\SNN-SRT数据\\SHD', train=False, data_type='frame', frames_number=20, split_by='number')\n",
    "# train_loader = torch.utils.data.DataLoader(dataset=SHD_train, batch_size=config.batch, shuffle=True, drop_last=False, num_workers=0)\n",
    "# test_loader = torch.utils.data.DataLoader(dataset=SHD_test, batch_size=config.batch, shuffle=False, drop_last=False, num_workers=0)"
   ]
  },
  {
   "cell_type": "code",
   "execution_count": 27,
   "metadata": {},
   "outputs": [],
   "source": [
    "class ActFun(torch.autograd.Function):\n",
    "    \n",
    "    @staticmethod\n",
    "    def forward(ctx, input):\n",
    "        ctx.save_for_backward(input)\n",
    "        return input.gt(0).float()\n",
    "\n",
    "    @staticmethod\n",
    "    def backward(ctx, grad_output):\n",
    "        input, = ctx.saved_tensors\n",
    "        grad_input = grad_output.clone()\n",
    "        temp = abs(input - 0) < 0.5 # lens\n",
    "        return grad_input * temp.float()\n",
    "\n",
    "act_fun = ActFun.apply"
   ]
  },
  {
   "cell_type": "code",
   "execution_count": 28,
   "metadata": {},
   "outputs": [],
   "source": [
    "def mem_update(input, mem, spk, thr, decay, rst):\n",
    "    mem = rst * spk + mem * decay * (1-spk) + input\n",
    "    spike = act_fun(mem - thr)\n",
    "    return mem, spike\n",
    "\n",
    "class RC(nn.Module):\n",
    "    def __init__(self) -> None:\n",
    "        super(RC, self).__init__()\n",
    "        input = config.input\n",
    "        hid = config.hid\n",
    "        out = config.output\n",
    "        self.fc_in = nn.Linear(input, hid)\n",
    "        self.conv_in = nn.Sequential(\n",
    "                                nn.Conv2d(2, 16, 3),\n",
    "                                nn.ReLU(),\n",
    "                                nn.AvgPool2d(2, 2),\n",
    "                                nn.Conv2d(16, 16, 3),\n",
    "                                nn.ReLU(),\n",
    "                                nn.AvgPool2d(2, 2),\n",
    "                                nn.Flatten(),\n",
    "                                self.fc_in,\n",
    "        )\n",
    "        self.conv_in.requires_grad_ = False\n",
    "        \n",
    "        self.A = nn.Parameter(torch.tensor(A_cluster(config)), requires_grad=False) # 邻接矩阵\n",
    "        self.fc_out = nn.Linear(hid, out)\n",
    "        \n",
    "    def forward(self, input):\n",
    "        batch, time_step = input.shape[0:2]\n",
    "        \n",
    "        hid_mem = torch.empty(batch, config.hid).uniform_(0, 0.1).to('cuda')\n",
    "        hid_spk = sum_spk = torch.zeros(batch, config.hid).to('cuda')\n",
    "        for t in range(time_step):\n",
    "            # x = self.fc_in(input[:,t,:])\n",
    "            x = self.conv_in(input[:, t, :, :, :])\n",
    "            # print(x.shape)\n",
    "            x = x @ self.A\n",
    "            hid_mem, hid_spk = mem_update(x, hid_mem, hid_spk, config.thr, config.decay, config.rst)\n",
    "            sum_spk += hid_spk\n",
    "        sum_spk /= time_step\n",
    "        out = self.fc_out(sum_spk)\n",
    "        return out\n"
   ]
  },
  {
   "cell_type": "code",
   "execution_count": 29,
   "metadata": {},
   "outputs": [],
   "source": [
    "def train(model, optimizer, criterion, num_epochs, train_loader, test_loader, device):\n",
    "    train_accs, test_accs = [], []\n",
    "    for epoch in range(num_epochs):\n",
    "        now = time.time()\n",
    "        for i, (samples, labels) in enumerate(tqdm(train_loader)):\n",
    "            # samples = samples.requires_grad_().to(device)\n",
    "            labels = labels.long().to(device)\n",
    "            optimizer.zero_grad()\n",
    "            outputs = model(samples.to(device))\n",
    "            loss = criterion(outputs, labels)\n",
    "            loss.backward()\n",
    "            optimizer.step()\n",
    "        tr_acc = test(model, train_loader)\n",
    "        ts_acc = test(model, test_loader)\n",
    "        train_accs.append(tr_acc)\n",
    "        test_accs.append(ts_acc)\n",
    "        res_str = 'epoch: ' + str(epoch) \\\n",
    "                    + ' Loss: ' + str(loss.item()) \\\n",
    "                    + '. Tr Acc: ' + str(tr_acc)   \\\n",
    "                    + '. Ts Acc: ' + str(ts_acc)   \\\n",
    "                    + '. Time:' + str(time.time()-now)\n",
    "        print(res_str)\n",
    "    return train_accs, ts_acc\n",
    "\n",
    "def test(model, dataloader):\n",
    "    correct, total = 0, 0\n",
    "    for images, labels in dataloader:\n",
    "        outputs = model(images.to(config.device))\n",
    "        _, predicted = torch.max(outputs.data, 1)\n",
    "        total += labels.size(0)\n",
    "        correct += (predicted.cpu() == labels.long().cpu()).sum()\n",
    "    accuracy = 100. * correct.numpy() / total\n",
    "    return accuracy"
   ]
  },
  {
   "cell_type": "code",
   "execution_count": 34,
   "metadata": {},
   "outputs": [
    {
     "data": {
      "text/plain": [
       "tensor(51128, device='cuda:0')"
      ]
     },
     "execution_count": 34,
     "metadata": {},
     "output_type": "execute_result"
    }
   ],
   "source": [
    "256*256-(model.A!=0).sum()"
   ]
  },
  {
   "cell_type": "code",
   "execution_count": 30,
   "metadata": {},
   "outputs": [
    {
     "data": {
      "application/vnd.jupyter.widget-view+json": {
       "model_id": "25584b8678e04873bea0b51c3ff78ed9",
       "version_major": 2,
       "version_minor": 0
      },
      "text/plain": [
       "  0%|          | 0/469 [00:00<?, ?it/s]"
      ]
     },
     "metadata": {},
     "output_type": "display_data"
    },
    {
     "name": "stdout",
     "output_type": "stream",
     "text": [
      "epoch: 0 Loss: 1.1170083284378052. Tr Acc: 72.58833333333334. Ts Acc: 75.17. Time:1162.582263469696\n"
     ]
    },
    {
     "data": {
      "application/vnd.jupyter.widget-view+json": {
       "model_id": "23f200ed94a54d46a4052a6040770627",
       "version_major": 2,
       "version_minor": 0
      },
      "text/plain": [
       "  0%|          | 0/469 [00:00<?, ?it/s]"
      ]
     },
     "metadata": {},
     "output_type": "display_data"
    },
    {
     "name": "stdout",
     "output_type": "stream",
     "text": [
      "epoch: 1 Loss: 0.8418045043945312. Tr Acc: 76.59666666666666. Ts Acc: 78.76. Time:308.80906534194946\n"
     ]
    },
    {
     "data": {
      "application/vnd.jupyter.widget-view+json": {
       "model_id": "4787f851496c4ae99216408d8c4240b7",
       "version_major": 2,
       "version_minor": 0
      },
      "text/plain": [
       "  0%|          | 0/469 [00:00<?, ?it/s]"
      ]
     },
     "metadata": {},
     "output_type": "display_data"
    },
    {
     "name": "stdout",
     "output_type": "stream",
     "text": [
      "epoch: 2 Loss: 0.8813906311988831. Tr Acc: 78.85833333333333. Ts Acc: 80.78. Time:306.6517586708069\n"
     ]
    },
    {
     "data": {
      "application/vnd.jupyter.widget-view+json": {
       "model_id": "eaa87ed21a064a58a97d37d142cf4bbb",
       "version_major": 2,
       "version_minor": 0
      },
      "text/plain": [
       "  0%|          | 0/469 [00:00<?, ?it/s]"
      ]
     },
     "metadata": {},
     "output_type": "display_data"
    },
    {
     "name": "stdout",
     "output_type": "stream",
     "text": [
      "epoch: 3 Loss: 0.8206872940063477. Tr Acc: 79.89666666666666. Ts Acc: 81.22. Time:327.1986074447632\n"
     ]
    },
    {
     "data": {
      "application/vnd.jupyter.widget-view+json": {
       "model_id": "2c9e91c974a14b15bd2336db81e3f6f6",
       "version_major": 2,
       "version_minor": 0
      },
      "text/plain": [
       "  0%|          | 0/469 [00:00<?, ?it/s]"
      ]
     },
     "metadata": {},
     "output_type": "display_data"
    },
    {
     "name": "stdout",
     "output_type": "stream",
     "text": [
      "epoch: 4 Loss: 0.6347170472145081. Tr Acc: 80.54166666666667. Ts Acc: 81.9. Time:295.7764344215393\n"
     ]
    },
    {
     "data": {
      "application/vnd.jupyter.widget-view+json": {
       "model_id": "10890a6ca1e14fcf8cb5e58b0b677d3d",
       "version_major": 2,
       "version_minor": 0
      },
      "text/plain": [
       "  0%|          | 0/469 [00:00<?, ?it/s]"
      ]
     },
     "metadata": {},
     "output_type": "display_data"
    },
    {
     "name": "stdout",
     "output_type": "stream",
     "text": [
      "epoch: 5 Loss: 0.6210606694221497. Tr Acc: 80.86333333333333. Ts Acc: 82.15. Time:286.65477681159973\n"
     ]
    },
    {
     "data": {
      "application/vnd.jupyter.widget-view+json": {
       "model_id": "218126ae6e4b4c5c8af5d586b1992090",
       "version_major": 2,
       "version_minor": 0
      },
      "text/plain": [
       "  0%|          | 0/469 [00:00<?, ?it/s]"
      ]
     },
     "metadata": {},
     "output_type": "display_data"
    },
    {
     "name": "stdout",
     "output_type": "stream",
     "text": [
      "epoch: 6 Loss: 0.47522690892219543. Tr Acc: 81.43833333333333. Ts Acc: 82.68. Time:289.93672347068787\n"
     ]
    },
    {
     "data": {
      "application/vnd.jupyter.widget-view+json": {
       "model_id": "27cefa3abd254e128e6dcdf451588726",
       "version_major": 2,
       "version_minor": 0
      },
      "text/plain": [
       "  0%|          | 0/469 [00:00<?, ?it/s]"
      ]
     },
     "metadata": {},
     "output_type": "display_data"
    },
    {
     "name": "stdout",
     "output_type": "stream",
     "text": [
      "epoch: 7 Loss: 0.5338914394378662. Tr Acc: 81.68666666666667. Ts Acc: 82.75. Time:281.72407960891724\n"
     ]
    },
    {
     "data": {
      "application/vnd.jupyter.widget-view+json": {
       "model_id": "a5257d277eb04ce990912e22f26a2988",
       "version_major": 2,
       "version_minor": 0
      },
      "text/plain": [
       "  0%|          | 0/469 [00:00<?, ?it/s]"
      ]
     },
     "metadata": {},
     "output_type": "display_data"
    },
    {
     "name": "stdout",
     "output_type": "stream",
     "text": [
      "epoch: 8 Loss: 0.8341158032417297. Tr Acc: 81.90166666666667. Ts Acc: 82.92. Time:282.47384572029114\n"
     ]
    },
    {
     "data": {
      "application/vnd.jupyter.widget-view+json": {
       "model_id": "1f0f9307ee924d0fb2915cd76cd2cf2f",
       "version_major": 2,
       "version_minor": 0
      },
      "text/plain": [
       "  0%|          | 0/469 [00:00<?, ?it/s]"
      ]
     },
     "metadata": {},
     "output_type": "display_data"
    },
    {
     "name": "stdout",
     "output_type": "stream",
     "text": [
      "epoch: 9 Loss: 0.6238268613815308. Tr Acc: 82.04666666666667. Ts Acc: 82.93. Time:300.18015217781067\n"
     ]
    },
    {
     "data": {
      "application/vnd.jupyter.widget-view+json": {
       "model_id": "8144d8c05d6c4111aea3cf739e1b9c36",
       "version_major": 2,
       "version_minor": 0
      },
      "text/plain": [
       "  0%|          | 0/469 [00:00<?, ?it/s]"
      ]
     },
     "metadata": {},
     "output_type": "display_data"
    },
    {
     "name": "stdout",
     "output_type": "stream",
     "text": [
      "epoch: 10 Loss: 0.5580610036849976. Tr Acc: 82.13. Ts Acc: 83.17. Time:250.66649889945984\n"
     ]
    },
    {
     "data": {
      "application/vnd.jupyter.widget-view+json": {
       "model_id": "5eb9d95f4d76430d813e877ce31c27c1",
       "version_major": 2,
       "version_minor": 0
      },
      "text/plain": [
       "  0%|          | 0/469 [00:00<?, ?it/s]"
      ]
     },
     "metadata": {},
     "output_type": "display_data"
    },
    {
     "name": "stdout",
     "output_type": "stream",
     "text": [
      "epoch: 11 Loss: 0.6030929684638977. Tr Acc: 82.27166666666666. Ts Acc: 83.28. Time:272.4943871498108\n"
     ]
    },
    {
     "data": {
      "application/vnd.jupyter.widget-view+json": {
       "model_id": "ce5c26f022b6418ca961e1a635a2023f",
       "version_major": 2,
       "version_minor": 0
      },
      "text/plain": [
       "  0%|          | 0/469 [00:00<?, ?it/s]"
      ]
     },
     "metadata": {},
     "output_type": "display_data"
    },
    {
     "name": "stdout",
     "output_type": "stream",
     "text": [
      "epoch: 12 Loss: 0.6630339026451111. Tr Acc: 82.35833333333333. Ts Acc: 83.05. Time:265.1927285194397\n"
     ]
    },
    {
     "data": {
      "application/vnd.jupyter.widget-view+json": {
       "model_id": "77455250d3304c69b667eda9fb3d0e19",
       "version_major": 2,
       "version_minor": 0
      },
      "text/plain": [
       "  0%|          | 0/469 [00:00<?, ?it/s]"
      ]
     },
     "metadata": {},
     "output_type": "display_data"
    },
    {
     "name": "stdout",
     "output_type": "stream",
     "text": [
      "epoch: 13 Loss: 0.5197514295578003. Tr Acc: 82.54833333333333. Ts Acc: 83.42. Time:238.84360265731812\n"
     ]
    },
    {
     "data": {
      "application/vnd.jupyter.widget-view+json": {
       "model_id": "c68026573ff54758b5f2b996d1633a08",
       "version_major": 2,
       "version_minor": 0
      },
      "text/plain": [
       "  0%|          | 0/469 [00:00<?, ?it/s]"
      ]
     },
     "metadata": {},
     "output_type": "display_data"
    },
    {
     "name": "stdout",
     "output_type": "stream",
     "text": [
      "epoch: 14 Loss: 0.5205071568489075. Tr Acc: 82.57333333333334. Ts Acc: 83.43. Time:235.48883032798767\n"
     ]
    },
    {
     "data": {
      "application/vnd.jupyter.widget-view+json": {
       "model_id": "06e5cb64ec8044ce96de19e4bd00bc67",
       "version_major": 2,
       "version_minor": 0
      },
      "text/plain": [
       "  0%|          | 0/469 [00:00<?, ?it/s]"
      ]
     },
     "metadata": {},
     "output_type": "display_data"
    },
    {
     "name": "stdout",
     "output_type": "stream",
     "text": [
      "epoch: 15 Loss: 0.5613263845443726. Tr Acc: 82.68833333333333. Ts Acc: 83.59. Time:230.3312168121338\n"
     ]
    },
    {
     "data": {
      "application/vnd.jupyter.widget-view+json": {
       "model_id": "da519f2ca4dc45ddb0076fa299cac194",
       "version_major": 2,
       "version_minor": 0
      },
      "text/plain": [
       "  0%|          | 0/469 [00:00<?, ?it/s]"
      ]
     },
     "metadata": {},
     "output_type": "display_data"
    },
    {
     "name": "stdout",
     "output_type": "stream",
     "text": [
      "epoch: 16 Loss: 0.6519025564193726. Tr Acc: 82.81166666666667. Ts Acc: 83.46. Time:230.7472198009491\n"
     ]
    },
    {
     "data": {
      "application/vnd.jupyter.widget-view+json": {
       "model_id": "5ab19f08cbb9462f963ea31faedc997c",
       "version_major": 2,
       "version_minor": 0
      },
      "text/plain": [
       "  0%|          | 0/469 [00:00<?, ?it/s]"
      ]
     },
     "metadata": {},
     "output_type": "display_data"
    },
    {
     "name": "stdout",
     "output_type": "stream",
     "text": [
      "epoch: 17 Loss: 0.6249439716339111. Tr Acc: 82.83. Ts Acc: 83.76. Time:230.3309714794159\n"
     ]
    },
    {
     "data": {
      "application/vnd.jupyter.widget-view+json": {
       "model_id": "b485f96acffa48dc888255bea876eff3",
       "version_major": 2,
       "version_minor": 0
      },
      "text/plain": [
       "  0%|          | 0/469 [00:00<?, ?it/s]"
      ]
     },
     "metadata": {},
     "output_type": "display_data"
    },
    {
     "name": "stdout",
     "output_type": "stream",
     "text": [
      "epoch: 18 Loss: 0.4739638566970825. Tr Acc: 82.77166666666666. Ts Acc: 83.61. Time:233.15223217010498\n"
     ]
    },
    {
     "data": {
      "application/vnd.jupyter.widget-view+json": {
       "model_id": "ddc3a4d7a9354798a1070ff5eca7d870",
       "version_major": 2,
       "version_minor": 0
      },
      "text/plain": [
       "  0%|          | 0/469 [00:00<?, ?it/s]"
      ]
     },
     "metadata": {},
     "output_type": "display_data"
    },
    {
     "name": "stdout",
     "output_type": "stream",
     "text": [
      "epoch: 19 Loss: 0.4390448331832886. Tr Acc: 82.97833333333334. Ts Acc: 83.59. Time:233.14792609214783\n"
     ]
    },
    {
     "data": {
      "application/vnd.jupyter.widget-view+json": {
       "model_id": "f11f9f3ab6014ac5adbcc22997f9f2a8",
       "version_major": 2,
       "version_minor": 0
      },
      "text/plain": [
       "  0%|          | 0/469 [00:00<?, ?it/s]"
      ]
     },
     "metadata": {},
     "output_type": "display_data"
    },
    {
     "name": "stdout",
     "output_type": "stream",
     "text": [
      "epoch: 20 Loss: 0.5073492527008057. Tr Acc: 82.84333333333333. Ts Acc: 83.63. Time:232.9994306564331\n"
     ]
    },
    {
     "data": {
      "application/vnd.jupyter.widget-view+json": {
       "model_id": "0cedd6a493994ab585eacb88ef5d63da",
       "version_major": 2,
       "version_minor": 0
      },
      "text/plain": [
       "  0%|          | 0/469 [00:00<?, ?it/s]"
      ]
     },
     "metadata": {},
     "output_type": "display_data"
    },
    {
     "name": "stdout",
     "output_type": "stream",
     "text": [
      "epoch: 21 Loss: 0.5605764389038086. Tr Acc: 82.90833333333333. Ts Acc: 83.55. Time:234.39812874794006\n"
     ]
    },
    {
     "data": {
      "application/vnd.jupyter.widget-view+json": {
       "model_id": "5348841e59154edda47f0e41d4ac4560",
       "version_major": 2,
       "version_minor": 0
      },
      "text/plain": [
       "  0%|          | 0/469 [00:00<?, ?it/s]"
      ]
     },
     "metadata": {},
     "output_type": "display_data"
    },
    {
     "name": "stdout",
     "output_type": "stream",
     "text": [
      "epoch: 22 Loss: 0.6162800192832947. Tr Acc: 82.915. Ts Acc: 83.85. Time:234.40913653373718\n"
     ]
    },
    {
     "data": {
      "application/vnd.jupyter.widget-view+json": {
       "model_id": "93c144243cb24b3098b8f89c65c53ff2",
       "version_major": 2,
       "version_minor": 0
      },
      "text/plain": [
       "  0%|          | 0/469 [00:00<?, ?it/s]"
      ]
     },
     "metadata": {},
     "output_type": "display_data"
    },
    {
     "name": "stdout",
     "output_type": "stream",
     "text": [
      "epoch: 23 Loss: 0.5515264272689819. Tr Acc: 83.065. Ts Acc: 83.78. Time:233.98141813278198\n"
     ]
    },
    {
     "data": {
      "application/vnd.jupyter.widget-view+json": {
       "model_id": "e3707ff4efbc45d2b9093d135300b12b",
       "version_major": 2,
       "version_minor": 0
      },
      "text/plain": [
       "  0%|          | 0/469 [00:00<?, ?it/s]"
      ]
     },
     "metadata": {},
     "output_type": "display_data"
    },
    {
     "name": "stdout",
     "output_type": "stream",
     "text": [
      "epoch: 24 Loss: 0.6560088992118835. Tr Acc: 82.995. Ts Acc: 83.86. Time:234.5746967792511\n"
     ]
    },
    {
     "data": {
      "application/vnd.jupyter.widget-view+json": {
       "model_id": "3ff81debb2284a2d84c9549f69e3b6a1",
       "version_major": 2,
       "version_minor": 0
      },
      "text/plain": [
       "  0%|          | 0/469 [00:00<?, ?it/s]"
      ]
     },
     "metadata": {},
     "output_type": "display_data"
    },
    {
     "name": "stdout",
     "output_type": "stream",
     "text": [
      "epoch: 25 Loss: 0.6780104637145996. Tr Acc: 83.02666666666667. Ts Acc: 83.58. Time:236.5411548614502\n"
     ]
    },
    {
     "data": {
      "application/vnd.jupyter.widget-view+json": {
       "model_id": "9af7ae00cd2d4d0288bfa7135d66d59b",
       "version_major": 2,
       "version_minor": 0
      },
      "text/plain": [
       "  0%|          | 0/469 [00:00<?, ?it/s]"
      ]
     },
     "metadata": {},
     "output_type": "display_data"
    },
    {
     "name": "stdout",
     "output_type": "stream",
     "text": [
      "epoch: 26 Loss: 0.4494004547595978. Tr Acc: 82.885. Ts Acc: 83.57. Time:237.0990972518921\n"
     ]
    },
    {
     "data": {
      "application/vnd.jupyter.widget-view+json": {
       "model_id": "8382091180cd4d9bbf2fd0c108d2945a",
       "version_major": 2,
       "version_minor": 0
      },
      "text/plain": [
       "  0%|          | 0/469 [00:00<?, ?it/s]"
      ]
     },
     "metadata": {},
     "output_type": "display_data"
    },
    {
     "name": "stdout",
     "output_type": "stream",
     "text": [
      "epoch: 27 Loss: 0.450696736574173. Tr Acc: 82.985. Ts Acc: 83.76. Time:237.7766592502594\n"
     ]
    },
    {
     "data": {
      "application/vnd.jupyter.widget-view+json": {
       "model_id": "79c22ad1a7bf4847a0f363c0f190fda7",
       "version_major": 2,
       "version_minor": 0
      },
      "text/plain": [
       "  0%|          | 0/469 [00:00<?, ?it/s]"
      ]
     },
     "metadata": {},
     "output_type": "display_data"
    },
    {
     "name": "stdout",
     "output_type": "stream",
     "text": [
      "epoch: 28 Loss: 0.4803667962551117. Tr Acc: 83.17166666666667. Ts Acc: 83.71. Time:236.9782199859619\n"
     ]
    },
    {
     "data": {
      "application/vnd.jupyter.widget-view+json": {
       "model_id": "d659ead27b9940188bec223799713569",
       "version_major": 2,
       "version_minor": 0
      },
      "text/plain": [
       "  0%|          | 0/469 [00:00<?, ?it/s]"
      ]
     },
     "metadata": {},
     "output_type": "display_data"
    },
    {
     "name": "stdout",
     "output_type": "stream",
     "text": [
      "epoch: 29 Loss: 0.48504117131233215. Tr Acc: 83.11333333333333. Ts Acc: 83.98. Time:233.81302547454834\n"
     ]
    },
    {
     "data": {
      "application/vnd.jupyter.widget-view+json": {
       "model_id": "23e550b6c05c4658ba38313a8a4e28bb",
       "version_major": 2,
       "version_minor": 0
      },
      "text/plain": [
       "  0%|          | 0/469 [00:00<?, ?it/s]"
      ]
     },
     "metadata": {},
     "output_type": "display_data"
    },
    {
     "name": "stdout",
     "output_type": "stream",
     "text": [
      "epoch: 30 Loss: 0.5865359306335449. Tr Acc: 83.075. Ts Acc: 83.54. Time:233.3759844303131\n"
     ]
    },
    {
     "data": {
      "application/vnd.jupyter.widget-view+json": {
       "model_id": "a8b38c6c0c094e8fbd80cc5d7baec6af",
       "version_major": 2,
       "version_minor": 0
      },
      "text/plain": [
       "  0%|          | 0/469 [00:00<?, ?it/s]"
      ]
     },
     "metadata": {},
     "output_type": "display_data"
    },
    {
     "name": "stdout",
     "output_type": "stream",
     "text": [
      "epoch: 31 Loss: 0.45261645317077637. Tr Acc: 83.11666666666666. Ts Acc: 83.76. Time:233.41712474822998\n"
     ]
    },
    {
     "data": {
      "application/vnd.jupyter.widget-view+json": {
       "model_id": "da8e54c614b041e4be9785d4f02982bb",
       "version_major": 2,
       "version_minor": 0
      },
      "text/plain": [
       "  0%|          | 0/469 [00:00<?, ?it/s]"
      ]
     },
     "metadata": {},
     "output_type": "display_data"
    },
    {
     "name": "stdout",
     "output_type": "stream",
     "text": [
      "epoch: 32 Loss: 0.4153755009174347. Tr Acc: 83.21. Ts Acc: 83.94. Time:234.3227424621582\n"
     ]
    },
    {
     "data": {
      "application/vnd.jupyter.widget-view+json": {
       "model_id": "90546f86a913436ab97ddc418ae235ee",
       "version_major": 2,
       "version_minor": 0
      },
      "text/plain": [
       "  0%|          | 0/469 [00:00<?, ?it/s]"
      ]
     },
     "metadata": {},
     "output_type": "display_data"
    },
    {
     "name": "stdout",
     "output_type": "stream",
     "text": [
      "epoch: 33 Loss: 0.5639399290084839. Tr Acc: 83.195. Ts Acc: 83.94. Time:234.3585398197174\n"
     ]
    },
    {
     "data": {
      "application/vnd.jupyter.widget-view+json": {
       "model_id": "929c0ca8b3e34860b2987055e1ff628d",
       "version_major": 2,
       "version_minor": 0
      },
      "text/plain": [
       "  0%|          | 0/469 [00:00<?, ?it/s]"
      ]
     },
     "metadata": {},
     "output_type": "display_data"
    },
    {
     "name": "stdout",
     "output_type": "stream",
     "text": [
      "epoch: 34 Loss: 0.35161128640174866. Tr Acc: 83.19333333333333. Ts Acc: 83.92. Time:231.31100153923035\n"
     ]
    },
    {
     "data": {
      "application/vnd.jupyter.widget-view+json": {
       "model_id": "4626f1a293044ebca04e635a15c00707",
       "version_major": 2,
       "version_minor": 0
      },
      "text/plain": [
       "  0%|          | 0/469 [00:00<?, ?it/s]"
      ]
     },
     "metadata": {},
     "output_type": "display_data"
    },
    {
     "name": "stdout",
     "output_type": "stream",
     "text": [
      "epoch: 35 Loss: 0.4788248538970947. Tr Acc: 83.06666666666666. Ts Acc: 83.79. Time:231.50284433364868\n"
     ]
    },
    {
     "data": {
      "application/vnd.jupyter.widget-view+json": {
       "model_id": "f5b490c0a48040d68ff7ea670d8d235b",
       "version_major": 2,
       "version_minor": 0
      },
      "text/plain": [
       "  0%|          | 0/469 [00:00<?, ?it/s]"
      ]
     },
     "metadata": {},
     "output_type": "display_data"
    },
    {
     "name": "stdout",
     "output_type": "stream",
     "text": [
      "epoch: 36 Loss: 0.4766896665096283. Tr Acc: 83.135. Ts Acc: 83.66. Time:228.29360270500183\n"
     ]
    },
    {
     "data": {
      "application/vnd.jupyter.widget-view+json": {
       "model_id": "f5207ea747314390987a8c9f0c999011",
       "version_major": 2,
       "version_minor": 0
      },
      "text/plain": [
       "  0%|          | 0/469 [00:00<?, ?it/s]"
      ]
     },
     "metadata": {},
     "output_type": "display_data"
    },
    {
     "name": "stdout",
     "output_type": "stream",
     "text": [
      "epoch: 37 Loss: 0.41877874732017517. Tr Acc: 83.24. Ts Acc: 83.89. Time:228.01704668998718\n"
     ]
    },
    {
     "data": {
      "application/vnd.jupyter.widget-view+json": {
       "model_id": "3e7ffc5b642041baa51c9414db702732",
       "version_major": 2,
       "version_minor": 0
      },
      "text/plain": [
       "  0%|          | 0/469 [00:00<?, ?it/s]"
      ]
     },
     "metadata": {},
     "output_type": "display_data"
    },
    {
     "name": "stdout",
     "output_type": "stream",
     "text": [
      "epoch: 38 Loss: 0.5128807425498962. Tr Acc: 83.175. Ts Acc: 83.89. Time:228.8131902217865\n"
     ]
    },
    {
     "data": {
      "application/vnd.jupyter.widget-view+json": {
       "model_id": "daef8148f31141578ef5b41eb722e1db",
       "version_major": 2,
       "version_minor": 0
      },
      "text/plain": [
       "  0%|          | 0/469 [00:00<?, ?it/s]"
      ]
     },
     "metadata": {},
     "output_type": "display_data"
    },
    {
     "name": "stdout",
     "output_type": "stream",
     "text": [
      "epoch: 39 Loss: 0.41873976588249207. Tr Acc: 83.24. Ts Acc: 83.84. Time:228.29257225990295\n"
     ]
    },
    {
     "data": {
      "application/vnd.jupyter.widget-view+json": {
       "model_id": "dba8ae17fc6b475c93daa747faaaa831",
       "version_major": 2,
       "version_minor": 0
      },
      "text/plain": [
       "  0%|          | 0/469 [00:00<?, ?it/s]"
      ]
     },
     "metadata": {},
     "output_type": "display_data"
    },
    {
     "name": "stdout",
     "output_type": "stream",
     "text": [
      "epoch: 40 Loss: 0.456741601228714. Tr Acc: 83.19166666666666. Ts Acc: 83.73. Time:230.71941375732422\n"
     ]
    },
    {
     "data": {
      "application/vnd.jupyter.widget-view+json": {
       "model_id": "1b87bfafb9074a5ba0243940662d0688",
       "version_major": 2,
       "version_minor": 0
      },
      "text/plain": [
       "  0%|          | 0/469 [00:00<?, ?it/s]"
      ]
     },
     "metadata": {},
     "output_type": "display_data"
    },
    {
     "name": "stdout",
     "output_type": "stream",
     "text": [
      "epoch: 41 Loss: 0.6243852972984314. Tr Acc: 83.35333333333334. Ts Acc: 83.77. Time:238.90625166893005\n"
     ]
    },
    {
     "data": {
      "application/vnd.jupyter.widget-view+json": {
       "model_id": "ea78e029b33d4c8b8e5b9823c4c57423",
       "version_major": 2,
       "version_minor": 0
      },
      "text/plain": [
       "  0%|          | 0/469 [00:00<?, ?it/s]"
      ]
     },
     "metadata": {},
     "output_type": "display_data"
    },
    {
     "name": "stdout",
     "output_type": "stream",
     "text": [
      "epoch: 42 Loss: 0.4149629771709442. Tr Acc: 83.26333333333334. Ts Acc: 83.89. Time:233.14822673797607\n"
     ]
    },
    {
     "data": {
      "application/vnd.jupyter.widget-view+json": {
       "model_id": "7515ea4f56794cbcb6c906279c9d95ae",
       "version_major": 2,
       "version_minor": 0
      },
      "text/plain": [
       "  0%|          | 0/469 [00:00<?, ?it/s]"
      ]
     },
     "metadata": {},
     "output_type": "display_data"
    },
    {
     "name": "stdout",
     "output_type": "stream",
     "text": [
      "epoch: 43 Loss: 0.3748762607574463. Tr Acc: 83.185. Ts Acc: 83.85. Time:233.38052463531494\n"
     ]
    },
    {
     "data": {
      "application/vnd.jupyter.widget-view+json": {
       "model_id": "35100a7b33e74d719e17dcd65ddf5a4c",
       "version_major": 2,
       "version_minor": 0
      },
      "text/plain": [
       "  0%|          | 0/469 [00:00<?, ?it/s]"
      ]
     },
     "metadata": {},
     "output_type": "display_data"
    },
    {
     "name": "stdout",
     "output_type": "stream",
     "text": [
      "epoch: 44 Loss: 0.6112664341926575. Tr Acc: 83.20833333333333. Ts Acc: 83.96. Time:232.0472400188446\n"
     ]
    },
    {
     "data": {
      "application/vnd.jupyter.widget-view+json": {
       "model_id": "ecd20dc14e4d44ff963163ecad051908",
       "version_major": 2,
       "version_minor": 0
      },
      "text/plain": [
       "  0%|          | 0/469 [00:00<?, ?it/s]"
      ]
     },
     "metadata": {},
     "output_type": "display_data"
    },
    {
     "name": "stdout",
     "output_type": "stream",
     "text": [
      "epoch: 45 Loss: 0.41804108023643494. Tr Acc: 83.30166666666666. Ts Acc: 84.02. Time:229.73060941696167\n"
     ]
    },
    {
     "data": {
      "application/vnd.jupyter.widget-view+json": {
       "model_id": "15befa807d77438d81a77299cca5eb9a",
       "version_major": 2,
       "version_minor": 0
      },
      "text/plain": [
       "  0%|          | 0/469 [00:00<?, ?it/s]"
      ]
     },
     "metadata": {},
     "output_type": "display_data"
    },
    {
     "name": "stdout",
     "output_type": "stream",
     "text": [
      "epoch: 46 Loss: 0.582581639289856. Tr Acc: 83.28666666666666. Ts Acc: 83.94. Time:230.1726529598236\n"
     ]
    },
    {
     "data": {
      "application/vnd.jupyter.widget-view+json": {
       "model_id": "36d4bb49ad044910b54c4133fb353c94",
       "version_major": 2,
       "version_minor": 0
      },
      "text/plain": [
       "  0%|          | 0/469 [00:00<?, ?it/s]"
      ]
     },
     "metadata": {},
     "output_type": "display_data"
    },
    {
     "name": "stdout",
     "output_type": "stream",
     "text": [
      "epoch: 47 Loss: 0.49858033657073975. Tr Acc: 83.14333333333333. Ts Acc: 83.85. Time:229.79026460647583\n"
     ]
    },
    {
     "data": {
      "application/vnd.jupyter.widget-view+json": {
       "model_id": "687cd56d1ba641039dc082f33a34101e",
       "version_major": 2,
       "version_minor": 0
      },
      "text/plain": [
       "  0%|          | 0/469 [00:00<?, ?it/s]"
      ]
     },
     "metadata": {},
     "output_type": "display_data"
    },
    {
     "name": "stdout",
     "output_type": "stream",
     "text": [
      "epoch: 48 Loss: 0.5767838954925537. Tr Acc: 83.27333333333333. Ts Acc: 83.85. Time:230.10466861724854\n"
     ]
    },
    {
     "data": {
      "application/vnd.jupyter.widget-view+json": {
       "model_id": "d47c0e0e8f014d769c3a47e4fda6e5b4",
       "version_major": 2,
       "version_minor": 0
      },
      "text/plain": [
       "  0%|          | 0/469 [00:00<?, ?it/s]"
      ]
     },
     "metadata": {},
     "output_type": "display_data"
    },
    {
     "name": "stdout",
     "output_type": "stream",
     "text": [
      "epoch: 49 Loss: 0.6782751083374023. Tr Acc: 83.16666666666667. Ts Acc: 83.53. Time:228.55019998550415\n"
     ]
    },
    {
     "data": {
      "application/vnd.jupyter.widget-view+json": {
       "model_id": "3e7b72d1adce401caa7f6372777fb9da",
       "version_major": 2,
       "version_minor": 0
      },
      "text/plain": [
       "  0%|          | 0/469 [00:00<?, ?it/s]"
      ]
     },
     "metadata": {},
     "output_type": "display_data"
    },
    {
     "name": "stdout",
     "output_type": "stream",
     "text": [
      "epoch: 50 Loss: 0.7603016495704651. Tr Acc: 83.08. Ts Acc: 83.58. Time:231.07221293449402\n"
     ]
    },
    {
     "data": {
      "application/vnd.jupyter.widget-view+json": {
       "model_id": "ec054d40838f4e35849d05074729eb14",
       "version_major": 2,
       "version_minor": 0
      },
      "text/plain": [
       "  0%|          | 0/469 [00:00<?, ?it/s]"
      ]
     },
     "metadata": {},
     "output_type": "display_data"
    },
    {
     "name": "stdout",
     "output_type": "stream",
     "text": [
      "epoch: 51 Loss: 0.4462164640426636. Tr Acc: 83.2. Ts Acc: 83.8. Time:229.5294361114502\n"
     ]
    },
    {
     "data": {
      "application/vnd.jupyter.widget-view+json": {
       "model_id": "8e2a6f17699e4d4cb5ad29f452836d46",
       "version_major": 2,
       "version_minor": 0
      },
      "text/plain": [
       "  0%|          | 0/469 [00:00<?, ?it/s]"
      ]
     },
     "metadata": {},
     "output_type": "display_data"
    },
    {
     "name": "stdout",
     "output_type": "stream",
     "text": [
      "epoch: 52 Loss: 0.5859620571136475. Tr Acc: 83.30166666666666. Ts Acc: 84.04. Time:231.7656853199005\n"
     ]
    },
    {
     "data": {
      "application/vnd.jupyter.widget-view+json": {
       "model_id": "8e4ff9d2f64141968d23de9a5350af4c",
       "version_major": 2,
       "version_minor": 0
      },
      "text/plain": [
       "  0%|          | 0/469 [00:00<?, ?it/s]"
      ]
     },
     "metadata": {},
     "output_type": "display_data"
    },
    {
     "name": "stdout",
     "output_type": "stream",
     "text": [
      "epoch: 53 Loss: 0.5209695100784302. Tr Acc: 83.31. Ts Acc: 84.0. Time:228.75887608528137\n"
     ]
    },
    {
     "data": {
      "application/vnd.jupyter.widget-view+json": {
       "model_id": "5c5aa38521884fbc95aa6fbf95bdb95b",
       "version_major": 2,
       "version_minor": 0
      },
      "text/plain": [
       "  0%|          | 0/469 [00:00<?, ?it/s]"
      ]
     },
     "metadata": {},
     "output_type": "display_data"
    },
    {
     "name": "stdout",
     "output_type": "stream",
     "text": [
      "epoch: 54 Loss: 0.6612052917480469. Tr Acc: 83.30666666666667. Ts Acc: 83.86. Time:227.49308729171753\n"
     ]
    },
    {
     "data": {
      "application/vnd.jupyter.widget-view+json": {
       "model_id": "03fc297ff9644f4d8be01e985af3ef10",
       "version_major": 2,
       "version_minor": 0
      },
      "text/plain": [
       "  0%|          | 0/469 [00:00<?, ?it/s]"
      ]
     },
     "metadata": {},
     "output_type": "display_data"
    },
    {
     "name": "stdout",
     "output_type": "stream",
     "text": [
      "epoch: 55 Loss: 0.5234086513519287. Tr Acc: 83.145. Ts Acc: 83.95. Time:229.25930881500244\n"
     ]
    },
    {
     "data": {
      "application/vnd.jupyter.widget-view+json": {
       "model_id": "fc957ec2dbb74c11920d5a929334ea8d",
       "version_major": 2,
       "version_minor": 0
      },
      "text/plain": [
       "  0%|          | 0/469 [00:00<?, ?it/s]"
      ]
     },
     "metadata": {},
     "output_type": "display_data"
    },
    {
     "name": "stdout",
     "output_type": "stream",
     "text": [
      "epoch: 56 Loss: 0.5204037427902222. Tr Acc: 83.24166666666666. Ts Acc: 83.96. Time:228.83314728736877\n"
     ]
    },
    {
     "data": {
      "application/vnd.jupyter.widget-view+json": {
       "model_id": "df4831512e494aaea54b34b348dc1262",
       "version_major": 2,
       "version_minor": 0
      },
      "text/plain": [
       "  0%|          | 0/469 [00:00<?, ?it/s]"
      ]
     },
     "metadata": {},
     "output_type": "display_data"
    },
    {
     "name": "stdout",
     "output_type": "stream",
     "text": [
      "epoch: 57 Loss: 0.592095673084259. Tr Acc: 83.30833333333334. Ts Acc: 84.1. Time:232.44748759269714\n"
     ]
    },
    {
     "data": {
      "application/vnd.jupyter.widget-view+json": {
       "model_id": "9565a6ac6344467f8d28118f87748eac",
       "version_major": 2,
       "version_minor": 0
      },
      "text/plain": [
       "  0%|          | 0/469 [00:00<?, ?it/s]"
      ]
     },
     "metadata": {},
     "output_type": "display_data"
    },
    {
     "name": "stdout",
     "output_type": "stream",
     "text": [
      "epoch: 58 Loss: 0.41659286618232727. Tr Acc: 83.19833333333334. Ts Acc: 83.94. Time:233.1551651954651\n"
     ]
    },
    {
     "data": {
      "application/vnd.jupyter.widget-view+json": {
       "model_id": "8fb847695f6648d7a62a0c7016e57fb8",
       "version_major": 2,
       "version_minor": 0
      },
      "text/plain": [
       "  0%|          | 0/469 [00:00<?, ?it/s]"
      ]
     },
     "metadata": {},
     "output_type": "display_data"
    },
    {
     "name": "stdout",
     "output_type": "stream",
     "text": [
      "epoch: 59 Loss: 0.3984718322753906. Tr Acc: 83.27333333333333. Ts Acc: 83.93. Time:232.6807873249054\n"
     ]
    },
    {
     "data": {
      "application/vnd.jupyter.widget-view+json": {
       "model_id": "23895cf3bec944d4917ee492c47a0671",
       "version_major": 2,
       "version_minor": 0
      },
      "text/plain": [
       "  0%|          | 0/469 [00:00<?, ?it/s]"
      ]
     },
     "metadata": {},
     "output_type": "display_data"
    },
    {
     "name": "stdout",
     "output_type": "stream",
     "text": [
      "epoch: 60 Loss: 0.5004477500915527. Tr Acc: 83.22166666666666. Ts Acc: 83.65. Time:230.85571932792664\n"
     ]
    },
    {
     "data": {
      "application/vnd.jupyter.widget-view+json": {
       "model_id": "104fe8612d944478a73c7153bd0887f0",
       "version_major": 2,
       "version_minor": 0
      },
      "text/plain": [
       "  0%|          | 0/469 [00:00<?, ?it/s]"
      ]
     },
     "metadata": {},
     "output_type": "display_data"
    },
    {
     "name": "stdout",
     "output_type": "stream",
     "text": [
      "epoch: 61 Loss: 0.48636528849601746. Tr Acc: 83.275. Ts Acc: 83.86. Time:229.19271755218506\n"
     ]
    },
    {
     "data": {
      "application/vnd.jupyter.widget-view+json": {
       "model_id": "22d2c734bc334e9c84651b10bbba2e5c",
       "version_major": 2,
       "version_minor": 0
      },
      "text/plain": [
       "  0%|          | 0/469 [00:00<?, ?it/s]"
      ]
     },
     "metadata": {},
     "output_type": "display_data"
    },
    {
     "name": "stdout",
     "output_type": "stream",
     "text": [
      "epoch: 62 Loss: 0.5669487118721008. Tr Acc: 83.29666666666667. Ts Acc: 84.0. Time:229.6380934715271\n"
     ]
    },
    {
     "data": {
      "application/vnd.jupyter.widget-view+json": {
       "model_id": "b3aef5c5450143afb574d9d6fda3c518",
       "version_major": 2,
       "version_minor": 0
      },
      "text/plain": [
       "  0%|          | 0/469 [00:00<?, ?it/s]"
      ]
     },
     "metadata": {},
     "output_type": "display_data"
    },
    {
     "name": "stdout",
     "output_type": "stream",
     "text": [
      "epoch: 63 Loss: 0.5279586315155029. Tr Acc: 83.32833333333333. Ts Acc: 83.94. Time:230.44518971443176\n"
     ]
    },
    {
     "data": {
      "application/vnd.jupyter.widget-view+json": {
       "model_id": "9dae99952c904db3a2a3578e9ee4ba94",
       "version_major": 2,
       "version_minor": 0
      },
      "text/plain": [
       "  0%|          | 0/469 [00:00<?, ?it/s]"
      ]
     },
     "metadata": {},
     "output_type": "display_data"
    },
    {
     "name": "stdout",
     "output_type": "stream",
     "text": [
      "epoch: 64 Loss: 0.29716911911964417. Tr Acc: 83.20833333333333. Ts Acc: 83.92. Time:230.80272436141968\n"
     ]
    },
    {
     "data": {
      "application/vnd.jupyter.widget-view+json": {
       "model_id": "8159742750ef42e3902e9511b42d5f42",
       "version_major": 2,
       "version_minor": 0
      },
      "text/plain": [
       "  0%|          | 0/469 [00:00<?, ?it/s]"
      ]
     },
     "metadata": {},
     "output_type": "display_data"
    },
    {
     "name": "stdout",
     "output_type": "stream",
     "text": [
      "epoch: 65 Loss: 0.5329641699790955. Tr Acc: 83.27333333333333. Ts Acc: 84.12. Time:230.35189652442932\n"
     ]
    },
    {
     "data": {
      "application/vnd.jupyter.widget-view+json": {
       "model_id": "3807872287674c81ad241778cc17c989",
       "version_major": 2,
       "version_minor": 0
      },
      "text/plain": [
       "  0%|          | 0/469 [00:00<?, ?it/s]"
      ]
     },
     "metadata": {},
     "output_type": "display_data"
    },
    {
     "name": "stdout",
     "output_type": "stream",
     "text": [
      "epoch: 66 Loss: 0.46664464473724365. Tr Acc: 83.25166666666667. Ts Acc: 83.95. Time:229.20670080184937\n"
     ]
    },
    {
     "data": {
      "application/vnd.jupyter.widget-view+json": {
       "model_id": "858a96d643f047c0b061246391ee5447",
       "version_major": 2,
       "version_minor": 0
      },
      "text/plain": [
       "  0%|          | 0/469 [00:00<?, ?it/s]"
      ]
     },
     "metadata": {},
     "output_type": "display_data"
    },
    {
     "name": "stdout",
     "output_type": "stream",
     "text": [
      "epoch: 67 Loss: 0.4296388626098633. Tr Acc: 83.31. Ts Acc: 83.67. Time:231.05131912231445\n"
     ]
    },
    {
     "data": {
      "application/vnd.jupyter.widget-view+json": {
       "model_id": "546f67168db6446e8df4e91296b136d0",
       "version_major": 2,
       "version_minor": 0
      },
      "text/plain": [
       "  0%|          | 0/469 [00:00<?, ?it/s]"
      ]
     },
     "metadata": {},
     "output_type": "display_data"
    },
    {
     "name": "stdout",
     "output_type": "stream",
     "text": [
      "epoch: 68 Loss: 0.5264003872871399. Tr Acc: 83.35. Ts Acc: 83.83. Time:231.07621669769287\n"
     ]
    },
    {
     "data": {
      "application/vnd.jupyter.widget-view+json": {
       "model_id": "6d555f4c01c04dbcabff32317a843a2d",
       "version_major": 2,
       "version_minor": 0
      },
      "text/plain": [
       "  0%|          | 0/469 [00:00<?, ?it/s]"
      ]
     },
     "metadata": {},
     "output_type": "display_data"
    },
    {
     "name": "stdout",
     "output_type": "stream",
     "text": [
      "epoch: 69 Loss: 0.5258633494377136. Tr Acc: 83.425. Ts Acc: 83.96. Time:230.5658175945282\n"
     ]
    },
    {
     "data": {
      "application/vnd.jupyter.widget-view+json": {
       "model_id": "4461607a71784cf0970f6da243e44d05",
       "version_major": 2,
       "version_minor": 0
      },
      "text/plain": [
       "  0%|          | 0/469 [00:00<?, ?it/s]"
      ]
     },
     "metadata": {},
     "output_type": "display_data"
    },
    {
     "name": "stdout",
     "output_type": "stream",
     "text": [
      "epoch: 70 Loss: 0.43803754448890686. Tr Acc: 83.28. Ts Acc: 83.89. Time:229.02899503707886\n"
     ]
    },
    {
     "data": {
      "application/vnd.jupyter.widget-view+json": {
       "model_id": "b24977c1ab094aaf9a5c231247d884c2",
       "version_major": 2,
       "version_minor": 0
      },
      "text/plain": [
       "  0%|          | 0/469 [00:00<?, ?it/s]"
      ]
     },
     "metadata": {},
     "output_type": "display_data"
    },
    {
     "name": "stdout",
     "output_type": "stream",
     "text": [
      "epoch: 71 Loss: 0.40380123257637024. Tr Acc: 83.20166666666667. Ts Acc: 83.79. Time:230.1404366493225\n"
     ]
    },
    {
     "data": {
      "application/vnd.jupyter.widget-view+json": {
       "model_id": "55a3503834604b2191f9b916eeed5b31",
       "version_major": 2,
       "version_minor": 0
      },
      "text/plain": [
       "  0%|          | 0/469 [00:00<?, ?it/s]"
      ]
     },
     "metadata": {},
     "output_type": "display_data"
    },
    {
     "name": "stdout",
     "output_type": "stream",
     "text": [
      "epoch: 72 Loss: 0.4477955400943756. Tr Acc: 83.29666666666667. Ts Acc: 83.89. Time:229.87168192863464\n"
     ]
    },
    {
     "data": {
      "application/vnd.jupyter.widget-view+json": {
       "model_id": "d042086d3b1544029e81bf4ef2ea27b2",
       "version_major": 2,
       "version_minor": 0
      },
      "text/plain": [
       "  0%|          | 0/469 [00:00<?, ?it/s]"
      ]
     },
     "metadata": {},
     "output_type": "display_data"
    },
    {
     "name": "stdout",
     "output_type": "stream",
     "text": [
      "epoch: 73 Loss: 0.42652761936187744. Tr Acc: 83.385. Ts Acc: 83.93. Time:233.47296285629272\n"
     ]
    },
    {
     "data": {
      "application/vnd.jupyter.widget-view+json": {
       "model_id": "84235c3efb36480ea4e1388a9b9dd7ac",
       "version_major": 2,
       "version_minor": 0
      },
      "text/plain": [
       "  0%|          | 0/469 [00:00<?, ?it/s]"
      ]
     },
     "metadata": {},
     "output_type": "display_data"
    },
    {
     "name": "stdout",
     "output_type": "stream",
     "text": [
      "epoch: 74 Loss: 0.7567169666290283. Tr Acc: 83.28166666666667. Ts Acc: 83.85. Time:232.42372465133667\n"
     ]
    },
    {
     "data": {
      "application/vnd.jupyter.widget-view+json": {
       "model_id": "ca060435a7ab4bc090749b5e5eb7c27f",
       "version_major": 2,
       "version_minor": 0
      },
      "text/plain": [
       "  0%|          | 0/469 [00:00<?, ?it/s]"
      ]
     },
     "metadata": {},
     "output_type": "display_data"
    },
    {
     "name": "stdout",
     "output_type": "stream",
     "text": [
      "epoch: 75 Loss: 0.5580694079399109. Tr Acc: 83.305. Ts Acc: 83.9. Time:232.7897653579712\n"
     ]
    },
    {
     "data": {
      "application/vnd.jupyter.widget-view+json": {
       "model_id": "e26941479c4c45be80ff035b1f6645aa",
       "version_major": 2,
       "version_minor": 0
      },
      "text/plain": [
       "  0%|          | 0/469 [00:00<?, ?it/s]"
      ]
     },
     "metadata": {},
     "output_type": "display_data"
    },
    {
     "name": "stdout",
     "output_type": "stream",
     "text": [
      "epoch: 76 Loss: 0.5778729319572449. Tr Acc: 83.3. Ts Acc: 83.92. Time:228.71280908584595\n"
     ]
    },
    {
     "data": {
      "application/vnd.jupyter.widget-view+json": {
       "model_id": "143b947af051475fb88d495386ba301f",
       "version_major": 2,
       "version_minor": 0
      },
      "text/plain": [
       "  0%|          | 0/469 [00:00<?, ?it/s]"
      ]
     },
     "metadata": {},
     "output_type": "display_data"
    },
    {
     "name": "stdout",
     "output_type": "stream",
     "text": [
      "epoch: 77 Loss: 0.4322773516178131. Tr Acc: 83.19. Ts Acc: 83.99. Time:229.37793898582458\n"
     ]
    },
    {
     "data": {
      "application/vnd.jupyter.widget-view+json": {
       "model_id": "4d66899e75114b68a30f2075a428fcd1",
       "version_major": 2,
       "version_minor": 0
      },
      "text/plain": [
       "  0%|          | 0/469 [00:00<?, ?it/s]"
      ]
     },
     "metadata": {},
     "output_type": "display_data"
    },
    {
     "name": "stdout",
     "output_type": "stream",
     "text": [
      "epoch: 78 Loss: 0.5463284850120544. Tr Acc: 83.355. Ts Acc: 83.89. Time:227.1679208278656\n"
     ]
    },
    {
     "data": {
      "application/vnd.jupyter.widget-view+json": {
       "model_id": "0604339b17b34a3db967317afe449555",
       "version_major": 2,
       "version_minor": 0
      },
      "text/plain": [
       "  0%|          | 0/469 [00:00<?, ?it/s]"
      ]
     },
     "metadata": {},
     "output_type": "display_data"
    },
    {
     "name": "stdout",
     "output_type": "stream",
     "text": [
      "epoch: 79 Loss: 0.5633904337882996. Tr Acc: 83.25333333333333. Ts Acc: 83.76. Time:228.26789927482605\n"
     ]
    },
    {
     "data": {
      "application/vnd.jupyter.widget-view+json": {
       "model_id": "565ee90397244468960568baae95d98a",
       "version_major": 2,
       "version_minor": 0
      },
      "text/plain": [
       "  0%|          | 0/469 [00:00<?, ?it/s]"
      ]
     },
     "metadata": {},
     "output_type": "display_data"
    },
    {
     "name": "stdout",
     "output_type": "stream",
     "text": [
      "epoch: 80 Loss: 0.5787233114242554. Tr Acc: 83.27. Ts Acc: 83.97. Time:227.29905200004578\n"
     ]
    },
    {
     "data": {
      "application/vnd.jupyter.widget-view+json": {
       "model_id": "8ae2094f82a94c3b9095ffe11e4213af",
       "version_major": 2,
       "version_minor": 0
      },
      "text/plain": [
       "  0%|          | 0/469 [00:00<?, ?it/s]"
      ]
     },
     "metadata": {},
     "output_type": "display_data"
    },
    {
     "name": "stdout",
     "output_type": "stream",
     "text": [
      "epoch: 81 Loss: 0.5959587693214417. Tr Acc: 83.33666666666667. Ts Acc: 84.04. Time:228.48568415641785\n"
     ]
    },
    {
     "data": {
      "application/vnd.jupyter.widget-view+json": {
       "model_id": "3e838231448b489799d7bb00e9514a9a",
       "version_major": 2,
       "version_minor": 0
      },
      "text/plain": [
       "  0%|          | 0/469 [00:00<?, ?it/s]"
      ]
     },
     "metadata": {},
     "output_type": "display_data"
    },
    {
     "name": "stdout",
     "output_type": "stream",
     "text": [
      "epoch: 82 Loss: 0.8834033608436584. Tr Acc: 83.30833333333334. Ts Acc: 83.87. Time:229.50415897369385\n"
     ]
    },
    {
     "data": {
      "application/vnd.jupyter.widget-view+json": {
       "model_id": "053919e77e544f6aac0a785c9708f9a4",
       "version_major": 2,
       "version_minor": 0
      },
      "text/plain": [
       "  0%|          | 0/469 [00:00<?, ?it/s]"
      ]
     },
     "metadata": {},
     "output_type": "display_data"
    },
    {
     "name": "stdout",
     "output_type": "stream",
     "text": [
      "epoch: 83 Loss: 0.5581173896789551. Tr Acc: 83.4. Ts Acc: 83.91. Time:230.11496496200562\n"
     ]
    },
    {
     "data": {
      "application/vnd.jupyter.widget-view+json": {
       "model_id": "12e32bf316694e14a35bb4586b0f6576",
       "version_major": 2,
       "version_minor": 0
      },
      "text/plain": [
       "  0%|          | 0/469 [00:00<?, ?it/s]"
      ]
     },
     "metadata": {},
     "output_type": "display_data"
    },
    {
     "name": "stdout",
     "output_type": "stream",
     "text": [
      "epoch: 84 Loss: 0.5355076193809509. Tr Acc: 83.425. Ts Acc: 84.15. Time:230.12854504585266\n"
     ]
    },
    {
     "data": {
      "application/vnd.jupyter.widget-view+json": {
       "model_id": "bd51dba001f74faba224019bcc888332",
       "version_major": 2,
       "version_minor": 0
      },
      "text/plain": [
       "  0%|          | 0/469 [00:00<?, ?it/s]"
      ]
     },
     "metadata": {},
     "output_type": "display_data"
    },
    {
     "name": "stdout",
     "output_type": "stream",
     "text": [
      "epoch: 85 Loss: 0.4418462812900543. Tr Acc: 83.455. Ts Acc: 83.97. Time:229.62336421012878\n"
     ]
    },
    {
     "data": {
      "application/vnd.jupyter.widget-view+json": {
       "model_id": "4d386b3cb3f143e198dca4d9e34ff53f",
       "version_major": 2,
       "version_minor": 0
      },
      "text/plain": [
       "  0%|          | 0/469 [00:00<?, ?it/s]"
      ]
     },
     "metadata": {},
     "output_type": "display_data"
    },
    {
     "name": "stdout",
     "output_type": "stream",
     "text": [
      "epoch: 86 Loss: 0.6029171943664551. Tr Acc: 83.38333333333334. Ts Acc: 84.06. Time:230.38990259170532\n"
     ]
    },
    {
     "data": {
      "application/vnd.jupyter.widget-view+json": {
       "model_id": "9ac4121428174ae5a431354200ab10f9",
       "version_major": 2,
       "version_minor": 0
      },
      "text/plain": [
       "  0%|          | 0/469 [00:00<?, ?it/s]"
      ]
     },
     "metadata": {},
     "output_type": "display_data"
    },
    {
     "name": "stdout",
     "output_type": "stream",
     "text": [
      "epoch: 87 Loss: 0.5686477422714233. Tr Acc: 83.40833333333333. Ts Acc: 84.0. Time:229.93418979644775\n"
     ]
    },
    {
     "data": {
      "application/vnd.jupyter.widget-view+json": {
       "model_id": "0facd31cc470429b8f35508f4e5a365c",
       "version_major": 2,
       "version_minor": 0
      },
      "text/plain": [
       "  0%|          | 0/469 [00:00<?, ?it/s]"
      ]
     },
     "metadata": {},
     "output_type": "display_data"
    },
    {
     "name": "stdout",
     "output_type": "stream",
     "text": [
      "epoch: 88 Loss: 0.5896912813186646. Tr Acc: 83.32. Ts Acc: 84.03. Time:232.50153756141663\n"
     ]
    },
    {
     "data": {
      "application/vnd.jupyter.widget-view+json": {
       "model_id": "1c9e0f3bcd4c456d80ab5e2b94025106",
       "version_major": 2,
       "version_minor": 0
      },
      "text/plain": [
       "  0%|          | 0/469 [00:00<?, ?it/s]"
      ]
     },
     "metadata": {},
     "output_type": "display_data"
    },
    {
     "name": "stdout",
     "output_type": "stream",
     "text": [
      "epoch: 89 Loss: 0.473122239112854. Tr Acc: 83.37. Ts Acc: 84.02. Time:233.13329648971558\n"
     ]
    },
    {
     "data": {
      "application/vnd.jupyter.widget-view+json": {
       "model_id": "d585c983ae114e568d8be60a7327bdd2",
       "version_major": 2,
       "version_minor": 0
      },
      "text/plain": [
       "  0%|          | 0/469 [00:00<?, ?it/s]"
      ]
     },
     "metadata": {},
     "output_type": "display_data"
    },
    {
     "name": "stdout",
     "output_type": "stream",
     "text": [
      "epoch: 90 Loss: 0.6175448298454285. Tr Acc: 83.29166666666667. Ts Acc: 83.87. Time:233.982816696167\n"
     ]
    },
    {
     "data": {
      "application/vnd.jupyter.widget-view+json": {
       "model_id": "f8ff26583f074b0f8643215b500d297c",
       "version_major": 2,
       "version_minor": 0
      },
      "text/plain": [
       "  0%|          | 0/469 [00:00<?, ?it/s]"
      ]
     },
     "metadata": {},
     "output_type": "display_data"
    },
    {
     "name": "stdout",
     "output_type": "stream",
     "text": [
      "epoch: 91 Loss: 0.4750451147556305. Tr Acc: 83.295. Ts Acc: 83.93. Time:232.94291853904724\n"
     ]
    },
    {
     "data": {
      "application/vnd.jupyter.widget-view+json": {
       "model_id": "7e957d1af682469da7e3d0ca7d47b9b6",
       "version_major": 2,
       "version_minor": 0
      },
      "text/plain": [
       "  0%|          | 0/469 [00:00<?, ?it/s]"
      ]
     },
     "metadata": {},
     "output_type": "display_data"
    },
    {
     "name": "stdout",
     "output_type": "stream",
     "text": [
      "epoch: 92 Loss: 0.5886226296424866. Tr Acc: 83.39. Ts Acc: 83.93. Time:232.5171525478363\n"
     ]
    },
    {
     "data": {
      "application/vnd.jupyter.widget-view+json": {
       "model_id": "da2eb067b89f43459b9e04fa3931c28e",
       "version_major": 2,
       "version_minor": 0
      },
      "text/plain": [
       "  0%|          | 0/469 [00:00<?, ?it/s]"
      ]
     },
     "metadata": {},
     "output_type": "display_data"
    },
    {
     "name": "stdout",
     "output_type": "stream",
     "text": [
      "epoch: 93 Loss: 0.6785008907318115. Tr Acc: 83.26166666666667. Ts Acc: 84.06. Time:233.17739176750183\n"
     ]
    },
    {
     "data": {
      "application/vnd.jupyter.widget-view+json": {
       "model_id": "dcb2cd406d65449285d0c1d9e191385a",
       "version_major": 2,
       "version_minor": 0
      },
      "text/plain": [
       "  0%|          | 0/469 [00:00<?, ?it/s]"
      ]
     },
     "metadata": {},
     "output_type": "display_data"
    },
    {
     "name": "stdout",
     "output_type": "stream",
     "text": [
      "epoch: 94 Loss: 0.5321668982505798. Tr Acc: 83.24166666666666. Ts Acc: 83.83. Time:229.23889756202698\n"
     ]
    },
    {
     "data": {
      "application/vnd.jupyter.widget-view+json": {
       "model_id": "a75158290c304d68a1039c4a7a41e053",
       "version_major": 2,
       "version_minor": 0
      },
      "text/plain": [
       "  0%|          | 0/469 [00:00<?, ?it/s]"
      ]
     },
     "metadata": {},
     "output_type": "display_data"
    },
    {
     "name": "stdout",
     "output_type": "stream",
     "text": [
      "epoch: 95 Loss: 0.551856279373169. Tr Acc: 83.34666666666666. Ts Acc: 84.1. Time:226.9203906059265\n"
     ]
    },
    {
     "data": {
      "application/vnd.jupyter.widget-view+json": {
       "model_id": "a31b23e7966c44eeb73ff2943b66cfe5",
       "version_major": 2,
       "version_minor": 0
      },
      "text/plain": [
       "  0%|          | 0/469 [00:00<?, ?it/s]"
      ]
     },
     "metadata": {},
     "output_type": "display_data"
    },
    {
     "name": "stdout",
     "output_type": "stream",
     "text": [
      "epoch: 96 Loss: 0.5449196100234985. Tr Acc: 83.35666666666667. Ts Acc: 83.96. Time:228.70362424850464\n"
     ]
    },
    {
     "data": {
      "application/vnd.jupyter.widget-view+json": {
       "model_id": "c88ca8554df04fb3a6083b8f246e3c59",
       "version_major": 2,
       "version_minor": 0
      },
      "text/plain": [
       "  0%|          | 0/469 [00:00<?, ?it/s]"
      ]
     },
     "metadata": {},
     "output_type": "display_data"
    },
    {
     "name": "stdout",
     "output_type": "stream",
     "text": [
      "epoch: 97 Loss: 0.2975296974182129. Tr Acc: 83.36333333333333. Ts Acc: 83.98. Time:227.76629829406738\n"
     ]
    },
    {
     "data": {
      "application/vnd.jupyter.widget-view+json": {
       "model_id": "ab30ad47c601451eb0d4988b39ac58f7",
       "version_major": 2,
       "version_minor": 0
      },
      "text/plain": [
       "  0%|          | 0/469 [00:00<?, ?it/s]"
      ]
     },
     "metadata": {},
     "output_type": "display_data"
    },
    {
     "name": "stdout",
     "output_type": "stream",
     "text": [
      "epoch: 98 Loss: 0.5131909251213074. Tr Acc: 83.38. Ts Acc: 83.96. Time:228.29850554466248\n"
     ]
    },
    {
     "data": {
      "application/vnd.jupyter.widget-view+json": {
       "model_id": "878d53baa9674edf9c4dad97ae359080",
       "version_major": 2,
       "version_minor": 0
      },
      "text/plain": [
       "  0%|          | 0/469 [00:00<?, ?it/s]"
      ]
     },
     "metadata": {},
     "output_type": "display_data"
    },
    {
     "name": "stdout",
     "output_type": "stream",
     "text": [
      "epoch: 99 Loss: 0.3921109437942505. Tr Acc: 83.35666666666667. Ts Acc: 83.96. Time:229.5439648628235\n"
     ]
    }
   ],
   "source": [
    "model = RC().to('cuda')\n",
    "for name, p in model.named_parameters():\n",
    "    if 'conv' in name or 'fc_in' in name:\n",
    "        p.requires_grad = False\n",
    "criterion = nn.CrossEntropyLoss()\n",
    "optimizer = torch.optim.Adam(filter(lambda p: p.requires_grad, model.parameters()), lr=config.lr)\n",
    "acc = train(model, optimizer, criterion, config.epoch, train_loader, test_loader, 'cuda')\n",
    "accuracy = test(model, test_loader)"
   ]
  },
  {
   "cell_type": "code",
   "execution_count": 23,
   "metadata": {},
   "outputs": [
    {
     "name": "stdout",
     "output_type": "stream",
     "text": [
      "Parameters: 5.14K\n"
     ]
    }
   ],
   "source": [
    "model = RC().to('cuda')\n",
    "# model.conv_in.requires_grad_ = False\n",
    "for name, p in model.named_parameters():\n",
    "    if 'conv' in name or 'fc_in' in name:\n",
    "        p.requires_grad = False\n",
    "        # print(name, p.shape)\n",
    "    # if p.requires_grad is False:\n",
    "    #     print(p.shape)\n",
    "params = sum(param.numel() for param in model.parameters() if param.requires_grad)\n",
    "print(\"Parameters: {:.2f}K\".format(params / 1e3))"
   ]
  },
  {
   "cell_type": "code",
   "execution_count": 57,
   "metadata": {},
   "outputs": [
    {
     "data": {
      "text/plain": [
       "[<matplotlib.lines.Line2D at 0x1cd8e4e20b0>]"
      ]
     },
     "execution_count": 57,
     "metadata": {},
     "output_type": "execute_result"
    },
    {
     "data": {
      "image/png": "[encoded data removed]",
      "text/plain": [
       "<Figure size 432x288 with 1 Axes>"
      ]
     },
     "metadata": {
      "needs_background": "light"
     },
     "output_type": "display_data"
    }
   ],
   "source": [
    "plt.plot(acc)"
   ]
  },
  {
   "cell_type": "code",
   "execution_count": 6,
   "metadata": {},
   "outputs": [
    {
     "name": "stdout",
     "output_type": "stream",
     "text": [
      "Parameters: 208.72K\n",
      "[INFO] Register count_linear() for <class 'torch.nn.modules.linear.Linear'>.\n",
      "[INFO] Register count_convNd() for <class 'torch.nn.modules.conv.Conv2d'>.\n",
      "[INFO] Register zero_ops() for <class 'torch.nn.modules.activation.ReLU'>.\n",
      "[INFO] Register count_avgpool() for <class 'torch.nn.modules.pooling.AvgPool2d'>.\n",
      "[INFO] Register zero_ops() for <class 'torch.nn.modules.container.Sequential'>.\n",
      "FLOPS: 31.09M\n",
      "Parameters: 409.68K\n"
     ]
    }
   ],
   "source": [
    "from thop import profile\n",
    "\n",
    "model = RC().to('cuda')\n",
    "model.conv_in.requires_grad_ = False\n",
    "params = sum(param.numel() for param in model.parameters() if param.requires_grad)\n",
    "print(\"Parameters: {:.2f}K\".format(params / 1e3))\n",
    "\n",
    "input = torch.randn(1, 20, 2, 34, 34).cuda() #.to(config.device)\n",
    "flops, params = profile(model.cuda(), inputs=(input,))\n",
    "print(\"FLOPS: {:.2f}M\".format(flops / 1e6))\n",
    "print(\"Parameters: {:.2f}K\".format(params / 1e3))"
   ]
  }
 ],
 "metadata": {
  "kernelspec": {
   "display_name": "snn",
   "language": "python",
   "name": "python3"
  },
  "language_info": {
   "codemirror_mode": {
    "name": "ipython",
    "version": 3
   },
   "file_extension": ".py",
   "mimetype": "text/x-python",
   "name": "python",
   "nbconvert_exporter": "python",
   "pygments_lexer": "ipython3",
   "version": "3.10.4"
  },
  "orig_nbformat": 4
 },
 "nbformat": 4,
 "nbformat_minor": 2
}
