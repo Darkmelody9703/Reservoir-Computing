{
 "cells": [
  {
   "cell_type": "code",
   "execution_count": 2,
   "metadata": {},
   "outputs": [],
   "source": [
    "import torch\n",
    "import torch.nn as nn\n",
    "import numpy as np\n",
    "import matplotlib.pyplot as plt\n",
    "import time\n",
    "\n"
   ]
  },
  {
   "cell_type": "code",
   "execution_count": null,
   "metadata": {},
   "outputs": [],
   "source": [
    "class config:\n",
    "    input = 700\n",
    "    output = 20\n",
    "    hid = 256    # RC Neurons\n",
    "    \n",
    "    batch = 256\n",
    "    epoch = 50\n",
    "    lr = 1e-3\n",
    "    device = torch.device('cuda:0')\n",
    "    \n",
    "    "
   ]
  },
  {
   "cell_type": "code",
   "execution_count": 4,
   "metadata": {},
   "outputs": [],
   "source": [
    "class ActFun(torch.autograd.Function):\n",
    "    \n",
    "    @staticmethod\n",
    "    def forward(ctx, input):\n",
    "        ctx.save_for_backward(input)\n",
    "        return input.gt(0).float()\n",
    "\n",
    "    @staticmethod\n",
    "    def backward(ctx, grad_output):\n",
    "        input, = ctx.saved_tensors\n",
    "        grad_input = grad_output.clone()\n",
    "        temp = abs(input - 0) < 0.5 # lens\n",
    "        return grad_input * temp.float()\n",
    "\n",
    "act_fun = ActFun.apply"
   ]
  },
  {
   "cell_type": "code",
   "execution_count": null,
   "metadata": {},
   "outputs": [],
   "source": [
    "def mem_update(input, mem, spk, thr, alpha, rst):\n",
    "    mem = rst * spk + mem * alpha * (1-spk) + input\n",
    "    spike = act_fun(mem - thr)\n",
    "    return mem, spike\n",
    "\n",
    "class RC(nn.Module):\n",
    "    def __init__(self) -> None:\n",
    "        super(RC, self).__init__()\n",
    "        input = config.input\n",
    "        hid = config.hid\n",
    "        self.fc_in = nn.Linear(input, hid)\n",
    "        self.A = nn.Parameter(torch.rand(hid, hid), requires_grad=False) # 邻接矩阵\n",
    "        \n",
    "        \n",
    "    def forward(self, input):\n",
    "        batch, time_step, in_dim = input.shape\n",
    "        hid_mem = torch.empty(batch, hid_dim).uniform_(0, 0.1)\n",
    "        hid_spk = torch.zeros(batch, hid_dim)\n",
    "        for t in range(time_step):\n",
    "            "
   ]
  }
 ],
 "metadata": {
  "kernelspec": {
   "display_name": "snn",
   "language": "python",
   "name": "python3"
  },
  "language_info": {
   "codemirror_mode": {
    "name": "ipython",
    "version": 3
   },
   "file_extension": ".py",
   "mimetype": "text/x-python",
   "name": "python",
   "nbconvert_exporter": "python",
   "pygments_lexer": "ipython3",
   "version": "3.10.4"
  },
  "orig_nbformat": 4
 },
 "nbformat": 4,
 "nbformat_minor": 2
}
