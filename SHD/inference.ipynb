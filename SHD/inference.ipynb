{
 "cells": [
  {
   "cell_type": "code",
   "execution_count": null,
   "metadata": {},
   "outputs": [],
   "source": [
    "import torch\n",
    "import torch.nn as nn\n",
    "import torch.nn.functional as F\n",
    "import numpy as np\n",
    "import matplotlib.pyplot as plt\n",
    "import time, warnings\n",
    "warnings.filterwarnings(\"ignore\")\n",
    "from torchvision import transforms, datasets\n",
    "from copy import deepcopy\n",
    "from main import RC, config"
   ]
  },
  {
   "cell_type": "code",
   "execution_count": null,
   "metadata": {},
   "outputs": [],
   "source": [
    "test_X = np.load('data/testX_4ms.npy')\n",
    "test_y = np.load('data/testY_4ms.npy').astype(float)\n",
    "\n",
    "tensor_testX = torch.Tensor(test_X)  # transform to torch tensor\n",
    "tensor_testY = torch.Tensor(test_y)\n",
    "test_dataset = torch.utils.data.TensorDataset(tensor_testX, tensor_testY)\n",
    "test_loader = torch.utils.data.DataLoader(test_dataset, batch_size=config.batch, shuffle=False)\n"
   ]
  },
  {
   "cell_type": "code",
   "execution_count": null,
   "metadata": {},
   "outputs": [],
   "source": [
    "model_file = r'F:\\GitHubClone\\Reservoir-Computing\\NMNIST\\log\\07-17-21-29\\model-0-50-96.77.tar'\n",
    "date = model_file.split('\\log')[1][1:12]\n",
    "model_parameter, mask = torch.load(model_file)\n",
    "\n",
    "config.device = 'cpu'\n",
    "model = RC().to(config.device)\n",
    "print(model.tau_adp_h1[0])\n",
    "model.load_state_dict(model_parameter)\n",
    "print(model.tau_adp_h1[0])\n",
    "print((mask[0]==0).sum()/config.hid**2)"
   ]
  }
 ],
 "metadata": {
  "kernelspec": {
   "display_name": "py",
   "language": "python",
   "name": "python3"
  },
  "language_info": {
   "codemirror_mode": {
    "name": "ipython",
    "version": 3
   },
   "file_extension": ".py",
   "mimetype": "text/x-python",
   "name": "python",
   "nbconvert_exporter": "python",
   "pygments_lexer": "ipython3",
   "version": "3.10.4"
  },
  "orig_nbformat": 4
 },
 "nbformat": 4,
 "nbformat_minor": 2
}
