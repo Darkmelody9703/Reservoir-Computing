{
 "cells": [
  {
   "cell_type": "code",
   "execution_count": 1,
   "metadata": {},
   "outputs": [],
   "source": [
    "from main_sparch_better import *"
   ]
  },
  {
   "cell_type": "code",
   "execution_count": 2,
   "metadata": {},
   "outputs": [
    {
     "name": "stdout",
     "output_type": "stream",
     "text": [
      "dataset shape:  (8156, 100, 700)\n",
      "dataset shape:  (2264, 100, 700)\n"
     ]
    }
   ],
   "source": [
    "train_loader, test_loader = load_shd_or_ssc()\n",
    "model = torch.load(r'log\\08-26-02-53\\ckpt\\best_model_1_92.57950530035336.pth').to('cpu')"
   ]
  },
  {
   "cell_type": "code",
   "execution_count": 4,
   "metadata": {},
   "outputs": [],
   "source": [
    "best_alpha = [0.8243803092264532, 0.9604688603348298, 0.9607846703736647, 0.9595186519350822, 0.8490250989289092, 0.8982046365206268, 0.8201879182077841, 0.8886192072579968, \n",
    "            0.9607894354419935, 0.8187661417337029, 0.8260448444187579, 0.8399187800296382, 0.8214084888649013, 0.9598658927126352, 0.824349687270403, 0.9194435184685358, \n",
    "            0.9605387153559588, 0.9607010715119774, 0.8266095465352128, 0.9607363135861428, 0.8579427964912295, 0.9002061419258588, 0.9571926900478269, 0.9606909771316208, \n",
    "            0.9607762075393097, 0.8199289003384398, 0.8189059687186506, 0.9505890861364736, 0.8199446143072293, 0.8445779569120768, 0.9437389928939655, 0.9604030462280556, \n",
    "            0.9494523653064589, 0.9607602505150685, 0.9607581572980007, 0.8521701837729728, 0.8230441386404667, 0.8230912159234757, 0.960529276155468, 0.9607866810730222, \n",
    "            0.9602192847257871, 0.8963851844853313, 0.8738005598439115, 0.9364583201456985, 0.819067752127089, 0.8215041011272918, 0.819132352790682, 0.8347785639352913, \n",
    "            0.8207016327137593, 0.8194987992354303, 0.9587952227120866, 0.9598550097240957, 0.903877258877084, 0.9603680844356108, 0.9607388099926344, 0.821362228976546, \n",
    "            0.9607893967339695, 0.954899653856994, 0.9518757826554579, 0.9525813422233127, 0.9595204153437529, 0.8242856229413854, 0.8280071856024558, 0.9606934047639425, \n",
    "            0.8685589062658915, 0.960412648222209, 0.9514077919457887, 0.9562646172275597, 0.9574630427082262, 0.9328639043688526, 0.917351716135774, 0.960430357336817, \n",
    "            0.9606556389879295, 0.9352913242082901, 0.9607409322386806, 0.9589526034701341, 0.9607428813482498, 0.9602265899664808, 0.960341049475823, 0.9606446746191049, \n",
    "            0.8193020943231905, 0.8573900350225202, 0.8187491041749018, 0.9467894032435651, 0.8188387023306377, 0.8312712158197973, 0.9387791697529836, 0.9590466028581536, \n",
    "            0.8834143822832881, 0.9510179565586351, 0.9231224303804877, 0.8907084574145179, 0.9606951075022662, 0.9572023360042495, 0.9603643129489369, 0.8191476691745071, \n",
    "            0.9607491415612329, 0.8187333916156166, 0.8197813769198975, 0.8188362316849725, 0.8285907009424582, 0.9606890454945898, 0.8760761226097046, 0.8193046575237505, \n",
    "            0.9592829885591941, 0.9606736543764619, 0.9575017411549497, 0.8190673273823181, 0.9580339205211114, 0.9335687218163271, 0.8966046808871915, 0.960009431960733, \n",
    "            0.9401746504293228, 0.9599830826906847, 0.8509513892207039, 0.8187638426666628, 0.8191720811240033, 0.8527395391292375, 0.8279726713621344, 0.8321640127750576, \n",
    "            0.9607872288087851, 0.9604206068584926, 0.8211383019152093, 0.8518846391361583, 0.8188291645499794, 0.9501197753878633, 0.9518566633074078, 0.956313237815687]\n",
    "\n",
    "best_beta = [0.9744331047573677, 0.9887103181738056, 0.9696157402325369, 0.9914208837861406, 0.978450512732147, 0.9672231585707062, 0.9832475632463586, 0.9721796495415502, \n",
    "            0.9815027875960918, 0.9916667242172134, 0.967240438670954, 0.9906210863218171, 0.9899631109791303, 0.991509126344362, 0.9908160727515372, 0.9876813568931181, \n",
    "            0.9915578918572645, 0.9821894541792511, 0.9672859868769004, 0.9834062863983295, 0.9797509528435692, 0.9707843794259853, 0.9916000902651487, 0.9916764626117742, \n",
    "            0.990998469053971, 0.9718153124337902, 0.9870783155484261, 0.991517439627636, 0.9911319056553494, 0.9916688206678278, 0.987207289627517, 0.9859217404007675, \n",
    "            0.9680748015134139, 0.9821455211090679, 0.9889145519413233, 0.991166389088141, 0.977581516183188, 0.9838644651666285, 0.9913829013815911, 0.9675367611385346, \n",
    "            0.9886602679839972, 0.9904087829840338, 0.9836169889011103, 0.9679879026064541, 0.9915920996521425, 0.9847313407487213, 0.9916982267802467, 0.9867823537318092, \n",
    "            0.9678191996088915, 0.9905942788114598, 0.9911292137608261, 0.9835835732801517, 0.9675865241400238, 0.9813419065310675, 0.9890340936440006, 0.9912215000944566, \n",
    "            0.9680242995969367, 0.9697269913995095, 0.969426762512303, 0.96780163792988, 0.9911363176344591, 0.9707846654864656, 0.9737145633269013, 0.9888434804933122, \n",
    "            0.9908248566825001, 0.9673322210512061, 0.9889750779464254, 0.9709149088056186, 0.9907520411863158, 0.991593719086806, 0.987493820233324, 0.9672175353183872, \n",
    "            0.9801763206746585, 0.9709929721396463, 0.989149895102783, 0.9809954879229823, 0.9854686501857313, 0.9914877363630092, 0.9738873492332322, 0.9672661626439094, \n",
    "            0.9846791646909739, 0.9794327574047133, 0.9915488126782349, 0.9727131909738468, 0.9916108822549824, 0.9914093402210719, 0.9907530869819631, 0.9688244717098614, \n",
    "            0.9914117828655744, 0.9910501720539705, 0.9889196327107966, 0.9911732445098679, 0.9865420625463273, 0.9727919137154782, 0.9914613928239263, 0.9682074233547319, \n",
    "            0.9857942158064158, 0.9909255860554298, 0.9903144479612707, 0.9808238221999134, 0.9916792392116592, 0.9676222659378759, 0.9859324400073421, 0.9834945863221771, \n",
    "            0.9672312855897321, 0.9727620843491571, 0.9905592050983705, 0.9903767725697218, 0.9787092622825226, 0.9903597701513747, 0.9913432615416006, 0.9891952486437161, \n",
    "            0.9907863845788231, 0.9915564384748097, 0.9900978136961572, 0.9699171862476208, 0.9915973158339164, 0.9854971001089028, 0.9795255501403354, 0.9871035170043828, \n",
    "            0.971409089662044, 0.9894427138626347, 0.9770662529141485, 0.9890692576478222, 0.9907374714417051, 0.980611063810488, 0.9734013009051631, 0.9673022131334343]"
   ]
  },
  {
   "cell_type": "code",
   "execution_count": 18,
   "metadata": {},
   "outputs": [],
   "source": [
    "def test(model):\n",
    "    model.eval()\n",
    "    with torch.no_grad():\n",
    "        for i in range(128):\n",
    "            model.alpha.data[i*8:(i+1)*8] = torch.tensor(best_alpha[i]).cuda() # *(np.exp(-1 / 25) - np.exp(-1 / 5)) + np.exp(-1 / 5)\n",
    "            model.beta.data[i*8:(i+1)*8] = torch.tensor(best_beta[i]).cuda()\n",
    "            # model.a.data[i*8:(i+1)*8] = torch.tensor(x[i]).cuda()\n",
    "            # model.b.data[i*8:(i+1)*8] = torch.tensor(b[i]).cuda()\n",
    "        losses, correct, total = [], 0, 0\n",
    "        for images, labels in test_loader:\n",
    "            images = torch.sign(images.clamp(min=0)) # all pixels should be 0 or 1\n",
    "            outputs, firing_rates, all_spikes = model(images.to('cpu'), 0)\n",
    "            _, predicted = torch.max(outputs.data, 1)\n",
    "            total += labels.size(0)\n",
    "            correct += (predicted.cpu() == labels.long().cpu()).sum()\n",
    "        accuracy = 100. * correct.numpy() / total\n",
    "    return accuracy"
   ]
  },
  {
   "cell_type": "code",
   "execution_count": 11,
   "metadata": {},
   "outputs": [],
   "source": [
    "config.nb_hiddens = 128\n",
    "pruned_model = RC().cpu()"
   ]
  },
  {
   "cell_type": "code",
   "execution_count": 57,
   "metadata": {},
   "outputs": [],
   "source": [
    "pruned_model.alpha.data = torch.tensor(best_alpha)\n",
    "pruned_model.beta.data = torch.tensor(best_beta)\n",
    "pruned_model.a.data = model.a.data\n",
    "pruned_model.b.data = model.b.data\n",
    "pruned_model.W.weight.data = model.W.weight.data.view(8,128,700).mean(0)\n",
    "pruned_model.W.bias.data = model.W.bias.data.view(8,128).mean(0)\n",
    "pruned_model.V.weight.data = V\n",
    "pruned_model.read.weight.data = model.read.weight.data.view(20,128,8).mean(2)\n",
    "pruned_model.read.bias.data = model.read.bias.data\n",
    "pruned_model.norm.weight.data = model.norm.weight.data.view(8,128).mean(0)\n",
    "pruned_model.norm.bias.data = model.norm.bias.data.view(8,128).mean(0)"
   ]
  },
  {
   "cell_type": "code",
   "execution_count": 40,
   "metadata": {},
   "outputs": [],
   "source": [
    "V = torch.zeros(128, 128)\n",
    "for i in range(128):\n",
    "    for j in range(128):\n",
    "        V[i, j] = model.V.weight.data[i*8:(i+1)*8, j*8:(j+1)*8].mean()"
   ]
  },
  {
   "cell_type": "code",
   "execution_count": 44,
   "metadata": {},
   "outputs": [
    {
     "data": {
      "text/plain": [
       "torch.Size([20])"
      ]
     },
     "execution_count": 44,
     "metadata": {},
     "output_type": "execute_result"
    }
   ],
   "source": [
    "model.read.bias.shape"
   ]
  },
  {
   "cell_type": "code",
   "execution_count": 61,
   "metadata": {},
   "outputs": [],
   "source": [
    "pruned_model.eval()\n",
    "with torch.no_grad():\n",
    "    losses, correct, total = [], 0, 0\n",
    "    for images, labels in test_loader:\n",
    "        images = torch.sign(images.clamp(min=0)) # all pixels should be 0 or 1\n",
    "        outputs, firing_rates, all_spikes = pruned_model(images.to('cpu'), 0)\n",
    "        _, predicted = torch.max(outputs.data, 1)\n",
    "        total += labels.size(0)\n",
    "        correct += (predicted.cpu() == labels.long().cpu()).sum()\n",
    "    accuracy = 100. * correct.numpy() / total"
   ]
  },
  {
   "cell_type": "code",
   "execution_count": 62,
   "metadata": {},
   "outputs": [
    {
     "data": {
      "text/plain": [
       "4.549469964664311"
      ]
     },
     "execution_count": 62,
     "metadata": {},
     "output_type": "execute_result"
    }
   ],
   "source": [
    "accuracy"
   ]
  },
  {
   "cell_type": "code",
   "execution_count": 53,
   "metadata": {},
   "outputs": [
    {
     "name": "stdout",
     "output_type": "stream",
     "text": [
      "alpha torch.Size([1024])\n",
      "beta torch.Size([1024])\n",
      "a torch.Size([1])\n",
      "b torch.Size([1])\n",
      "alpha_read torch.Size([20])\n",
      "W.weight torch.Size([1024, 700])\n",
      "W.bias torch.Size([1024])\n",
      "V.weight torch.Size([1024, 1024])\n",
      "read.weight torch.Size([20, 1024])\n",
      "read.bias torch.Size([20])\n",
      "norm.weight torch.Size([1024])\n",
      "norm.bias torch.Size([1024])\n",
      "norm_read.weight torch.Size([20])\n",
      "norm_read.bias torch.Size([20])\n"
     ]
    }
   ],
   "source": [
    "for name, p in model.named_parameters():\n",
    "    print(name, p.shape)"
   ]
  },
  {
   "cell_type": "code",
   "execution_count": 52,
   "metadata": {},
   "outputs": [
    {
     "name": "stdout",
     "output_type": "stream",
     "text": [
      "alpha torch.Size([128])\n",
      "beta torch.Size([128])\n",
      "a torch.Size([1])\n",
      "b torch.Size([1])\n",
      "alpha_read torch.Size([20])\n",
      "W.weight torch.Size([128, 700])\n",
      "W.bias torch.Size([128])\n",
      "V.weight torch.Size([128, 128])\n",
      "read.weight torch.Size([128, 20])\n",
      "read.bias torch.Size([20])\n",
      "norm.weight torch.Size([128])\n",
      "norm.bias torch.Size([128])\n",
      "norm_read.weight torch.Size([20])\n",
      "norm_read.bias torch.Size([20])\n"
     ]
    }
   ],
   "source": [
    "for name, p in pruned_model.named_parameters():\n",
    "    print(name, p.shape)"
   ]
  }
 ],
 "metadata": {
  "kernelspec": {
   "display_name": "py",
   "language": "python",
   "name": "python3"
  },
  "language_info": {
   "codemirror_mode": {
    "name": "ipython",
    "version": 3
   },
   "file_extension": ".py",
   "mimetype": "text/x-python",
   "name": "python",
   "nbconvert_exporter": "python",
   "pygments_lexer": "ipython3",
   "version": "3.10.4"
  },
  "orig_nbformat": 4
 },
 "nbformat": 4,
 "nbformat_minor": 2
}
